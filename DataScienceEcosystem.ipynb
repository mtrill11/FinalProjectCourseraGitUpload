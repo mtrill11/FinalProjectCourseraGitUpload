{
 "cells": [
  {
   "cell_type": "markdown",
   "id": "987517aa-09f4-44d3-97e4-0103ea90c12b",
   "metadata": {},
   "source": [
    " ## Data Science Tools and Ecosystem\n"
   ]
  },
  {
   "cell_type": "markdown",
   "id": "7a9c694d-b255-4233-9c59-695efba5d92a",
   "metadata": {},
   "source": [
    "### In this notebook, Data Science Tools and Ecosystem are summarized. ###"
   ]
  },
  {
   "cell_type": "markdown",
   "id": "fecf4905-eb06-4441-879e-74c223a420e3",
   "metadata": {},
   "source": [
    "**Objectives:** <br>\n",
    "        * List popular languages for Data Science <br>\n",
    "        * Learn the basics of a Jupyter Notebook <br>\n",
    "        * Introduction to Git and Github"
   ]
  },
  {
   "cell_type": "markdown",
   "id": "fb994dc1-53b9-4321-8a54-5efc71b5669a",
   "metadata": {},
   "source": [
    "#### Some of the popular languages Data Scientists use are: ####\n",
    "    1. Python\n",
    "    2. R\n",
    "    3. SQL\n",
    "    4. Julia"
   ]
  },
  {
   "cell_type": "markdown",
   "id": "6f160ccd-e6a2-4bae-b59c-5e173c32bea0",
   "metadata": {},
   "source": [
    "#### Some of the commonly used libraries used by data scientists include:\n",
    "    1. pandas (Python)\n",
    "    2. numpy (Python)\n",
    "    3. matplotlib (Python)\n",
    "    4. ggplot2 (R)"
   ]
  },
  {
   "cell_type": "markdown",
   "id": "5e1564e1-3e56-4c14-85ca-c1fccfefb10b",
   "metadata": {},
   "source": [
    "|Data Science Tools|\n",
    "|--------------------|\n",
    "|Jupyter Notebooks|\n",
    "|R Studio|\n",
    "|Zeppelin Notebooks|\n"
   ]
  },
  {
   "cell_type": "markdown",
   "id": "0110c01c-5794-4460-bb98-44ada2244aed",
   "metadata": {},
   "source": [
    "### Below are a few examples of writing arithmetic expressions in python."
   ]
  },
  {
   "cell_type": "code",
   "execution_count": null,
   "id": "164fbaf9-1985-45c1-9aac-55f3028ccd00",
   "metadata": {},
   "outputs": [],
   "source": [
    "#This is a simple arithmetic expression to multiply then add integers."
   ]
  },
  {
   "cell_type": "code",
   "execution_count": 6,
   "id": "f2cc4feb-608d-4f19-8c59-8a4a95bb7f0e",
   "metadata": {},
   "outputs": [
    {
     "data": {
      "text/plain": [
       "17"
      ]
     },
     "execution_count": 6,
     "metadata": {},
     "output_type": "execute_result"
    }
   ],
   "source": [
    "(3*4)+5"
   ]
  },
  {
   "cell_type": "code",
   "execution_count": null,
   "id": "58e9d424-66dc-46b8-8213-2b6e001fa091",
   "metadata": {},
   "outputs": [],
   "source": [
    "#This will convert 200 minutes to hours by dividing by 60."
   ]
  },
  {
   "cell_type": "code",
   "execution_count": 7,
   "id": "82c586b7-5d21-4284-857c-8cf33a1eef1d",
   "metadata": {},
   "outputs": [
    {
     "data": {
      "text/plain": [
       "3.3333333333333335"
      ]
     },
     "execution_count": 7,
     "metadata": {},
     "output_type": "execute_result"
    }
   ],
   "source": [
    "200 / 60"
   ]
  },
  {
   "cell_type": "markdown",
   "id": "821064bf-49ea-4739-bd93-25ea656a9131",
   "metadata": {},
   "source": [
    "## Author \n",
    "Michael T."
   ]
  }
 ],
 "metadata": {
  "kernelspec": {
   "display_name": "Python 3 (ipykernel)",
   "language": "python",
   "name": "python3"
  },
  "language_info": {
   "codemirror_mode": {
    "name": "ipython",
    "version": 3
   },
   "file_extension": ".py",
   "mimetype": "text/x-python",
   "name": "python",
   "nbconvert_exporter": "python",
   "pygments_lexer": "ipython3",
   "version": "3.11.8"
  }
 },
 "nbformat": 4,
 "nbformat_minor": 5
}
